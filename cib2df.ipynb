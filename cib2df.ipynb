{
 "cells": [
  {
   "cell_type": "code",
   "execution_count": 5,
   "metadata": {},
   "outputs": [
    {
     "name": "stdout",
     "output_type": "stream",
     "text": [
      "https://ci.nii.ac.jp/books/opensearch/search?format=json&appid=CiNii09-89ef94917d5946d2a0dae832519f760b&q=%E6%96%B0%E4%BA%95%E7%B4%A0%E5%AD%90&start=1&count=50\n",
      "totalResults:  136\n",
      "https://ci.nii.ac.jp/books/opensearch/search?format=json&appid=CiNii09-89ef94917d5946d2a0dae832519f760b&q=%E6%96%B0%E4%BA%95%E7%B4%A0%E5%AD%90&start=1&count=50\n",
      "https://ci.nii.ac.jp/books/opensearch/search?format=json&appid=CiNii09-89ef94917d5946d2a0dae832519f760b&q=%E6%96%B0%E4%BA%95%E7%B4%A0%E5%AD%90&start=51&count=50\n",
      "https://ci.nii.ac.jp/books/opensearch/search?format=json&appid=CiNii09-89ef94917d5946d2a0dae832519f760b&q=%E6%96%B0%E4%BA%95%E7%B4%A0%E5%AD%90&start=101&count=50\n"
     ]
    }
   ],
   "source": [
    "#!/usr/bin/env python3\n",
    "\"\"\"\n",
    "CiNii ArticleのAPIをCSVに\n",
    "\"\"\"\n",
    "\n",
    "import urllib3\n",
    "import urllib.parse\n",
    "import certifi\n",
    "import pandas as pd\n",
    "import csv\n",
    "import sys\n",
    "import json\n",
    "import time\n",
    "\n",
    "#APPID = \"xxxxx\" # APPIDはCiNiiで取得してセット\n",
    "APPID = \"xxxxx\"\n",
    "keyword2 = \"新井素子\"\n",
    "keyword = urllib.parse.quote(keyword2)\n",
    "count = 50\n",
    "\n",
    "req_url = 'https://ci.nii.ac.jp/books/opensearch/search?format=json'\n",
    "req_url = req_url + \"&appid=\" + APPID\n",
    "http = urllib3.PoolManager(cert_reqs='CERT_REQUIRED', ca_certs=certifi.where())\n",
    "\n",
    "def req(keyword, start):\n",
    "   req_url2 = req_url + \"&q=\" + keyword + \"&start=\" + str(start) + \"&count=\" + str(count)\n",
    "   print(req_url2)\n",
    "   response = http.request('GET', req_url2)\n",
    "   json_data = response.data.decode('utf-8')\n",
    "   time.sleep(0.5)\n",
    "   return json_data\n",
    "\n",
    "data_dict1 = json.loads(req(keyword,1))\n",
    "totalResults = data_dict1[\"@graph\"][0][\"opensearch:totalResults\"] # 総件数\n",
    "print(\"totalResults: \",totalResults)\n",
    "\n",
    "data_dict = pd.DataFrame()\n",
    "\n",
    "num = 1\n",
    "while True:\n",
    "    json_data2 = req(keyword,num)\n",
    "    try:\n",
    "        data_dict = data_dict.append( pd.read_json(json.dumps(json.loads(json_data2)[\"@graph\"][0][\"items\"])) ,sort=\"true\")\n",
    "    except Exception:\n",
    "        pass\n",
    "    # \n",
    "    num = num + count\n",
    "    if num > int(totalResults) :\n",
    "        break\n",
    "\n"
   ]
  },
  {
   "cell_type": "code",
   "execution_count": 37,
   "metadata": {},
   "outputs": [
    {
     "name": "stdout",
     "output_type": "stream",
     "text": [
      "<class 'pandas.core.frame.DataFrame'>\n"
     ]
    },
    {
     "data": {
      "text/html": [
       "<div>\n",
       "<style scoped>\n",
       "    .dataframe tbody tr th:only-of-type {\n",
       "        vertical-align: middle;\n",
       "    }\n",
       "\n",
       "    .dataframe tbody tr th {\n",
       "        vertical-align: top;\n",
       "    }\n",
       "\n",
       "    .dataframe thead th {\n",
       "        text-align: right;\n",
       "    }\n",
       "</style>\n",
       "<table border=\"1\" class=\"dataframe\">\n",
       "  <thead>\n",
       "    <tr style=\"text-align: right;\">\n",
       "      <th></th>\n",
       "      <th>@id</th>\n",
       "      <th>@type</th>\n",
       "      <th>cinii:ownerCount</th>\n",
       "      <th>dc:creator</th>\n",
       "      <th>dc:date</th>\n",
       "      <th>dc:publisher</th>\n",
       "      <th>dcterms:hasPart</th>\n",
       "      <th>dcterms:isPartOf</th>\n",
       "      <th>link</th>\n",
       "      <th>prism:publicationDate</th>\n",
       "      <th>rdfs:seeAlso</th>\n",
       "      <th>title</th>\n",
       "    </tr>\n",
       "  </thead>\n",
       "  <tbody>\n",
       "    <tr>\n",
       "      <td>45</td>\n",
       "      <td>http://ci.nii.ac.jp/ncid/BA83194917</td>\n",
       "      <td>item</td>\n",
       "      <td>1</td>\n",
       "      <td>新井素子著</td>\n",
       "      <td>2001</td>\n",
       "      <td>[徳間書店]</td>\n",
       "      <td>[{'@id': 'urn:isbn:4199050779'}]</td>\n",
       "      <td>[{'@id': 'http://ci.nii.ac.jp/ncid/BA51589551'...</td>\n",
       "      <td>{'@id': 'http://ci.nii.ac.jp/ncid/BA83194917'}</td>\n",
       "      <td>2001</td>\n",
       "      <td>{'@id': 'http://ci.nii.ac.jp/ncid/BA83194917.j...</td>\n",
       "      <td>くますけと一緒に</td>\n",
       "    </tr>\n",
       "    <tr>\n",
       "      <td>46</td>\n",
       "      <td>http://ci.nii.ac.jp/ncid/BA74166659</td>\n",
       "      <td>item</td>\n",
       "      <td>6</td>\n",
       "      <td>新井素子 [著]</td>\n",
       "      <td>2005</td>\n",
       "      <td>[角川書店]</td>\n",
       "      <td>[{'@id': 'urn:isbn:404160012X'}]</td>\n",
       "      <td>[{'@id': 'http://ci.nii.ac.jp/ncid/BN0007882X'...</td>\n",
       "      <td>{'@id': 'http://ci.nii.ac.jp/ncid/BA74166659'}</td>\n",
       "      <td>2005</td>\n",
       "      <td>{'@id': 'http://ci.nii.ac.jp/ncid/BA74166659.j...</td>\n",
       "      <td>ハッピー・バースディ</td>\n",
       "    </tr>\n",
       "    <tr>\n",
       "      <td>47</td>\n",
       "      <td>http://ci.nii.ac.jp/ncid/BA68841178</td>\n",
       "      <td>item</td>\n",
       "      <td>7</td>\n",
       "      <td>新井素子著</td>\n",
       "      <td>1986</td>\n",
       "      <td>[集英社]</td>\n",
       "      <td>[{'@id': 'urn:isbn:4086108747'}]</td>\n",
       "      <td>[{'@id': 'http://ci.nii.ac.jp/ncid/BN01277945'...</td>\n",
       "      <td>{'@id': 'http://ci.nii.ac.jp/ncid/BA68841178'}</td>\n",
       "      <td>1986</td>\n",
       "      <td>{'@id': 'http://ci.nii.ac.jp/ncid/BA68841178.j...</td>\n",
       "      <td>逆恨みのネメシス : ロマンチックSF</td>\n",
       "    </tr>\n",
       "    <tr>\n",
       "      <td>48</td>\n",
       "      <td>http://ci.nii.ac.jp/ncid/BA68840517</td>\n",
       "      <td>item</td>\n",
       "      <td>6</td>\n",
       "      <td>新井素子著</td>\n",
       "      <td>1983</td>\n",
       "      <td>[集英社]</td>\n",
       "      <td>NaN</td>\n",
       "      <td>[{'@id': 'http://ci.nii.ac.jp/ncid/BN01277945'...</td>\n",
       "      <td>{'@id': 'http://ci.nii.ac.jp/ncid/BA68840517'}</td>\n",
       "      <td>1983</td>\n",
       "      <td>{'@id': 'http://ci.nii.ac.jp/ncid/BA68840517.j...</td>\n",
       "      <td>カレンダー・ガール</td>\n",
       "    </tr>\n",
       "    <tr>\n",
       "      <td>49</td>\n",
       "      <td>http://ci.nii.ac.jp/ncid/BA68838333</td>\n",
       "      <td>item</td>\n",
       "      <td>6</td>\n",
       "      <td>新井素子著</td>\n",
       "      <td>1982</td>\n",
       "      <td>[集英社]</td>\n",
       "      <td>NaN</td>\n",
       "      <td>[{'@id': 'http://ci.nii.ac.jp/ncid/BN01277945'...</td>\n",
       "      <td>{'@id': 'http://ci.nii.ac.jp/ncid/BA68838333'}</td>\n",
       "      <td>1982</td>\n",
       "      <td>{'@id': 'http://ci.nii.ac.jp/ncid/BA68838333.j...</td>\n",
       "      <td>通りすがりのレイディ</td>\n",
       "    </tr>\n",
       "  </tbody>\n",
       "</table>\n",
       "</div>"
      ],
      "text/plain": [
       "                                    @id @type  cinii:ownerCount dc:creator  \\\n",
       "45  http://ci.nii.ac.jp/ncid/BA83194917  item                 1      新井素子著   \n",
       "46  http://ci.nii.ac.jp/ncid/BA74166659  item                 6   新井素子 [著]   \n",
       "47  http://ci.nii.ac.jp/ncid/BA68841178  item                 7      新井素子著   \n",
       "48  http://ci.nii.ac.jp/ncid/BA68840517  item                 6      新井素子著   \n",
       "49  http://ci.nii.ac.jp/ncid/BA68838333  item                 6      新井素子著   \n",
       "\n",
       "    dc:date dc:publisher                   dcterms:hasPart  \\\n",
       "45     2001       [徳間書店]  [{'@id': 'urn:isbn:4199050779'}]   \n",
       "46     2005       [角川書店]  [{'@id': 'urn:isbn:404160012X'}]   \n",
       "47     1986        [集英社]  [{'@id': 'urn:isbn:4086108747'}]   \n",
       "48     1983        [集英社]                               NaN   \n",
       "49     1982        [集英社]                               NaN   \n",
       "\n",
       "                                     dcterms:isPartOf  \\\n",
       "45  [{'@id': 'http://ci.nii.ac.jp/ncid/BA51589551'...   \n",
       "46  [{'@id': 'http://ci.nii.ac.jp/ncid/BN0007882X'...   \n",
       "47  [{'@id': 'http://ci.nii.ac.jp/ncid/BN01277945'...   \n",
       "48  [{'@id': 'http://ci.nii.ac.jp/ncid/BN01277945'...   \n",
       "49  [{'@id': 'http://ci.nii.ac.jp/ncid/BN01277945'...   \n",
       "\n",
       "                                              link  prism:publicationDate  \\\n",
       "45  {'@id': 'http://ci.nii.ac.jp/ncid/BA83194917'}                   2001   \n",
       "46  {'@id': 'http://ci.nii.ac.jp/ncid/BA74166659'}                   2005   \n",
       "47  {'@id': 'http://ci.nii.ac.jp/ncid/BA68841178'}                   1986   \n",
       "48  {'@id': 'http://ci.nii.ac.jp/ncid/BA68840517'}                   1983   \n",
       "49  {'@id': 'http://ci.nii.ac.jp/ncid/BA68838333'}                   1982   \n",
       "\n",
       "                                         rdfs:seeAlso                title  \n",
       "45  {'@id': 'http://ci.nii.ac.jp/ncid/BA83194917.j...             くますけと一緒に  \n",
       "46  {'@id': 'http://ci.nii.ac.jp/ncid/BA74166659.j...           ハッピー・バースディ  \n",
       "47  {'@id': 'http://ci.nii.ac.jp/ncid/BA68841178.j...  逆恨みのネメシス : ロマンチックSF  \n",
       "48  {'@id': 'http://ci.nii.ac.jp/ncid/BA68840517.j...            カレンダー・ガール  \n",
       "49  {'@id': 'http://ci.nii.ac.jp/ncid/BA68838333.j...           通りすがりのレイディ  "
      ]
     },
     "execution_count": 37,
     "metadata": {},
     "output_type": "execute_result"
    }
   ],
   "source": [
    "data_dict.tail()"
   ]
  },
  {
   "cell_type": "code",
   "execution_count": 21,
   "metadata": {},
   "outputs": [
    {
     "data": {
      "image/png": "[encoded data removed]",
      "text/plain": [
       "<Figure size 432x288 with 1 Axes>"
      ]
     },
     "metadata": {
      "needs_background": "light"
     },
     "output_type": "display_data"
    }
   ],
   "source": [
    "%matplotlib inline\n",
    "import matplotlib.pyplot as plt\n",
    "title = keyword2 + 'publication year'\n",
    "# 出版年のヒストグラム\n",
    "histg = data_dict['dc:date'].plot.hist(bins=50)\n",
    "histg.set_title(title, fontname=\"Meiryo\")\n",
    "histg\n",
    "histg.figure.savefig(\"chart.jpg\")"
   ]
  },
  {
   "cell_type": "code",
   "execution_count": 16,
   "metadata": {},
   "outputs": [
    {
     "name": "stdout",
     "output_type": "stream",
     "text": [
      "dc:publisher  CBS・ソニー出版  中央公論新社  大陸書房  広済堂出版  廣済堂出版  徳間書店  文化出版局  新書館  新潮社  \\\n",
      "dc:date                                                                      \n",
      "1980                  0       0     0      0      0     0      0    0    0   \n",
      "1982                  3       0     0      0      0     3      0    0    0   \n",
      "1983                  0       0     0      0      0     0      0    0    0   \n",
      "1984                  0       0     0      0      0     0      3    0    0   \n",
      "1985                  0       0     0      0      0     0      0    3    0   \n",
      "1986                  0       0     0      0      0     3      0    0    0   \n",
      "1987                  0       0     0      0      0     3      0    0    0   \n",
      "1988                  0       0     3      0      0     0      0    0    0   \n",
      "1990                  0       0     0      0      0     0      0    0    0   \n",
      "1991                  0       0     3      0      0     0      0    0    0   \n",
      "1992                  0       0     0      0      0     3      0    0    3   \n",
      "1993                  0       0     0      0      0     0      0    0    3   \n",
      "1994                  0       0     0      3      0     0      0    0    0   \n",
      "1995                  0       0     0      0      0     0      0    0    3   \n",
      "1996                  0       0     0      0      0     0      0    0    0   \n",
      "2001                  0       0     0      0      0     3      0    0    0   \n",
      "2002                  0       0     0      0      0     0      0    0    0   \n",
      "2005                  0       0     0      0      0     0      0    0    0   \n",
      "2007                  0       0     0      0      3     0      0    0    0   \n",
      "2010                  0       0     0      0      0     0      0    0    3   \n",
      "2011                  0       3     0      0      0     0      0    0    0   \n",
      "2013                  0       0     0      0      0     0      0    0    3   \n",
      "2014                  0       0     0      0      0     0      0    0    0   \n",
      "2016                  0       0     0      0      0     0      0    0    3   \n",
      "2017                  0       0     0      0      0     0      0    0    0   \n",
      "2018                  0       3     0      0      0     0      0    0    0   \n",
      "2019                  0       0     0      0      0     0      0    0    0   \n",
      "\n",
      "dc:publisher  早川書房  東京創元社  柏書房  角川春樹事務所  角川書店  講談社  集英社  \n",
      "dc:date                                                  \n",
      "1980             0      0    0        0     0    0    3  \n",
      "1982             0      0    0        0     0    0    3  \n",
      "1983             3      0    0        0     0    3    3  \n",
      "1984             0      0    0        0     0    0    3  \n",
      "1985             0      0    0        0     3    0    0  \n",
      "1986             0      0    0        0     3    0    3  \n",
      "1987             0      0    0        0     0    0    0  \n",
      "1988             0      0    0        0     9    0    0  \n",
      "1990             0      0    0        0     0    9    0  \n",
      "1991             0      0    0        0     3    0    0  \n",
      "1992             0      0    0        0     0    3    0  \n",
      "1993             0      0    0        0     0    6    0  \n",
      "1994             0      0    0        0     0    0    0  \n",
      "1995             0      0    0        0     0    0    0  \n",
      "1996             0      0    0        0     0    0    9  \n",
      "2001             0      0    0        0     0    0    0  \n",
      "2002             0      0    0        0     3    0    0  \n",
      "2005             0      0    0        0     3    0    0  \n",
      "2007             0      3    0        0     0    0    3  \n",
      "2010             3      0    0        0     0    0    0  \n",
      "2011             0      0    0        0     0    0    0  \n",
      "2013             0      0    0        0     0    0    0  \n",
      "2014             0      0    0        3     0    0    0  \n",
      "2016             0      0    0        0     0    0    0  \n",
      "2017             0      0    0        3     0    0    0  \n",
      "2018             0      0    0        0     0    0    0  \n",
      "2019             0      0    3        0     0    0    0  \n"
     ]
    },
    {
     "data": {
      "text/plain": [
       "<matplotlib.axes._subplots.AxesSubplot at 0x1844de2c188>"
      ]
     },
     "execution_count": 16,
     "metadata": {},
     "output_type": "execute_result"
    },
    {
     "data": {
      "image/png": "[encoded data removed]",
      "text/plain": [
       "<Figure size 432x288 with 1 Axes>"
      ]
     },
     "metadata": {
      "needs_background": "light"
     },
     "output_type": "display_data"
    }
   ],
   "source": [
    "%matplotlib inline\n",
    "# normalize='index'で行ごとの割合で集計される\n",
    "data_dict['dc:creator'] = data_dict['dc:creator'].str.replace('\\[', '222') # これは置換できた\n",
    "data_dict['dc:publisher'] = data_dict['dc:publisher'].apply(''.join) # やっとできた[]をとる\n",
    "# pd.crosstab(index=data_dict.loc[:,'dc:creator'],columns=data_dict.loc[:,'dc:date'])\n",
    "cros = pd.crosstab(data_dict.loc[:,'dc:date'],data_dict.loc[:,'dc:publisher'])\n",
    "print(cros)\n",
    "# stacked=Trueで積み上げ機能オン\n",
    "crosg = cros.plot.bar(stacked=True)\n",
    "title = keyword2 + 'publication year/pub'\n",
    "crosg.set_title(title, fontname=\"Meiryo\")\n",
    "legend = crosg.legend(framealpha=1.0, prop={\"family\":\"Meiryo\"},bbox_to_anchor=(1.05, 1), loc='upper left', borderaxespad=0, fontsize=18)\n",
    "# (bbox_to_anchor=(1.05, 1), loc='upper left', borderaxespad=0, fontsize=18)\n",
    "legend.set_title('dc:publisher', prop={\"family\":\"Meiryo\"})\n",
    "# crosg.legend([\"凡例\"], prop={\"family\":\"Meiryo\"})\n",
    "crosg"
   ]
  },
  {
   "cell_type": "code",
   "execution_count": null,
   "metadata": {},
   "outputs": [],
   "source": [
    "# CSV出力\n",
    "data_dict.to_csv('cib_data.csv', encoding='utf-8_sig', quoting=csv.QUOTE_ALL, index=False )"
   ]
  },
  {
   "cell_type": "raw",
   "metadata": {},
   "source": [
    "data_dict.tail()"
   ]
  },
  {
   "cell_type": "code",
   "execution_count": null,
   "metadata": {},
   "outputs": [],
   "source": []
  },
  {
   "cell_type": "code",
   "execution_count": null,
   "metadata": {},
   "outputs": [],
   "source": []
  }
 ],
 "metadata": {
  "kernelspec": {
   "display_name": "Python 3",
   "language": "python",
   "name": "python3"
  },
  "language_info": {
   "codemirror_mode": {
    "name": "ipython",
    "version": 3
   },
   "file_extension": ".py",
   "mimetype": "text/x-python",
   "name": "python",
   "nbconvert_exporter": "python",
   "pygments_lexer": "ipython3",
   "version": "3.7.4"
  }
 },
 "nbformat": 4,
 "nbformat_minor": 4
}
