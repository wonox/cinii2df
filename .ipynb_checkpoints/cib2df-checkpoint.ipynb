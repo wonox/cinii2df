{
 "cells": [
  {
   "cell_type": "code",
   "execution_count": 5,
   "metadata": {},
   "outputs": [
    {
     "name": "stdout",
     "output_type": "stream",
     "text": [
      "https://ci.nii.ac.jp/books/opensearch/search?format=json&appid=CiNii09-89ef94917d5946d2a0dae832519f760b&q=%E6%96%B0%E4%BA%95%E7%B4%A0%E5%AD%90&start=1&count=50\n",
      "totalResults:  136\n",
      "https://ci.nii.ac.jp/books/opensearch/search?format=json&appid=CiNii09-89ef94917d5946d2a0dae832519f760b&q=%E6%96%B0%E4%BA%95%E7%B4%A0%E5%AD%90&start=1&count=50\n",
      "https://ci.nii.ac.jp/books/opensearch/search?format=json&appid=CiNii09-89ef94917d5946d2a0dae832519f760b&q=%E6%96%B0%E4%BA%95%E7%B4%A0%E5%AD%90&start=51&count=50\n",
      "https://ci.nii.ac.jp/books/opensearch/search?format=json&appid=CiNii09-89ef94917d5946d2a0dae832519f760b&q=%E6%96%B0%E4%BA%95%E7%B4%A0%E5%AD%90&start=101&count=50\n"
     ]
    }
   ],
   "source": [
    "#!/usr/bin/env python3\n",
    "\"\"\"\n",
    "CiNii ArticleのAPIをCSVに\n",
    "\"\"\"\n",
    "\n",
    "import urllib3\n",
    "import urllib.parse\n",
    "import certifi\n",
    "import pandas as pd\n",
    "import csv\n",
    "import sys\n",
    "import json\n",
    "import time\n",
    "\n",
    "#APPID = \"xxxxx\" # APPIDはCiNiiで取得してセット\n",
    "APPID = \"CiNii09-89ef94917d5946d2a0dae832519f760b\"\n",
    "keyword2 = \"新井素子\"\n",
    "keyword = urllib.parse.quote(keyword2)\n",
    "count = 50\n",
    "\n",
    "req_url = 'https://ci.nii.ac.jp/books/opensearch/search?format=json'\n",
    "req_url = req_url + \"&appid=\" + APPID\n",
    "http = urllib3.PoolManager(cert_reqs='CERT_REQUIRED', ca_certs=certifi.where())\n",
    "\n",
    "def req(keyword, start):\n",
    "   req_url2 = req_url + \"&q=\" + keyword + \"&start=\" + str(start) + \"&count=\" + str(count)\n",
    "   print(req_url2)\n",
    "   response = http.request('GET', req_url2)\n",
    "   json_data = response.data.decode('utf-8')\n",
    "   time.sleep(0.5)\n",
    "   return json_data\n",
    "\n",
    "data_dict1 = json.loads(req(keyword,1))\n",
    "totalResults = data_dict1[\"@graph\"][0][\"opensearch:totalResults\"] # 総件数\n",
    "print(\"totalResults: \",totalResults)\n",
    "\n",
    "data_dict = pd.DataFrame()\n",
    "\n",
    "num = 1\n",
    "while True:\n",
    "    json_data2 = req(keyword,num)\n",
    "    try:\n",
    "        data_dict = data_dict.append( pd.read_json(json.dumps(json.loads(json_data2)[\"@graph\"][0][\"items\"])) ,sort=\"true\")\n",
    "    except Exception:\n",
    "        pass\n",
    "    # \n",
    "    num = num + count\n",
    "    if num > int(totalResults) :\n",
    "        break\n",
    "\n"
   ]
  },
  {
   "cell_type": "code",
   "execution_count": null,
   "metadata": {},
   "outputs": [],
   "source": [
    "data_dict.tail()"
   ]
  },
  {
   "cell_type": "code",
   "execution_count": null,
   "metadata": {},
   "outputs": [],
   "source": [
    "%matplotlib inline\n",
    "import matplotlib.pyplot as plt\n",
    "title = keyword2 + 'publication year'\n",
    "# 出版年のヒストグラム\n",
    "histg = data_dict['dc:date'].plot.hist(bins=50)\n",
    "histg.set_title(title, fontname=\"Meiryo\")\n",
    "histg\n",
    "histg.figure.savefig(\"chart.jpg\")"
   ]
  },
  {
   "cell_type": "code",
   "execution_count": 14,
   "metadata": {},
   "outputs": [
    {
     "name": "stdout",
     "output_type": "stream",
     "text": [
      "dc:publisher  CBS・ソニー出版  中央公論新社  大陸書房  広済堂出版  廣済堂出版  徳間書店  文化出版局  新書館  新潮社  \\\n",
      "dc:date                                                                      \n",
      "1980                  0       0     0      0      0     0      0    0    0   \n",
      "1982                  3       0     0      0      0     3      0    0    0   \n",
      "1983                  0       0     0      0      0     0      0    0    0   \n",
      "1984                  0       0     0      0      0     0      3    0    0   \n",
      "1985                  0       0     0      0      0     0      0    3    0   \n",
      "1986                  0       0     0      0      0     3      0    0    0   \n",
      "1987                  0       0     0      0      0     3      0    0    0   \n",
      "1988                  0       0     3      0      0     0      0    0    0   \n",
      "1990                  0       0     0      0      0     0      0    0    0   \n",
      "1991                  0       0     3      0      0     0      0    0    0   \n",
      "1992                  0       0     0      0      0     3      0    0    3   \n",
      "1993                  0       0     0      0      0     0      0    0    3   \n",
      "1994                  0       0     0      3      0     0      0    0    0   \n",
      "1995                  0       0     0      0      0     0      0    0    3   \n",
      "1996                  0       0     0      0      0     0      0    0    0   \n",
      "2001                  0       0     0      0      0     3      0    0    0   \n",
      "2002                  0       0     0      0      0     0      0    0    0   \n",
      "2005                  0       0     0      0      0     0      0    0    0   \n",
      "2007                  0       0     0      0      3     0      0    0    0   \n",
      "2010                  0       0     0      0      0     0      0    0    3   \n",
      "2011                  0       3     0      0      0     0      0    0    0   \n",
      "2013                  0       0     0      0      0     0      0    0    3   \n",
      "2014                  0       0     0      0      0     0      0    0    0   \n",
      "2016                  0       0     0      0      0     0      0    0    3   \n",
      "2017                  0       0     0      0      0     0      0    0    0   \n",
      "2018                  0       3     0      0      0     0      0    0    0   \n",
      "2019                  0       0     0      0      0     0      0    0    0   \n",
      "\n",
      "dc:publisher  早川書房  東京創元社  柏書房  角川春樹事務所  角川書店  講談社  集英社  \n",
      "dc:date                                                  \n",
      "1980             0      0    0        0     0    0    3  \n",
      "1982             0      0    0        0     0    0    3  \n",
      "1983             3      0    0        0     0    3    3  \n",
      "1984             0      0    0        0     0    0    3  \n",
      "1985             0      0    0        0     3    0    0  \n",
      "1986             0      0    0        0     3    0    3  \n",
      "1987             0      0    0        0     0    0    0  \n",
      "1988             0      0    0        0     9    0    0  \n",
      "1990             0      0    0        0     0    9    0  \n",
      "1991             0      0    0        0     3    0    0  \n",
      "1992             0      0    0        0     0    3    0  \n",
      "1993             0      0    0        0     0    6    0  \n",
      "1994             0      0    0        0     0    0    0  \n",
      "1995             0      0    0        0     0    0    0  \n",
      "1996             0      0    0        0     0    0    9  \n",
      "2001             0      0    0        0     0    0    0  \n",
      "2002             0      0    0        0     3    0    0  \n",
      "2005             0      0    0        0     3    0    0  \n",
      "2007             0      3    0        0     0    0    3  \n",
      "2010             3      0    0        0     0    0    0  \n",
      "2011             0      0    0        0     0    0    0  \n",
      "2013             0      0    0        0     0    0    0  \n",
      "2014             0      0    0        3     0    0    0  \n",
      "2016             0      0    0        0     0    0    0  \n",
      "2017             0      0    0        3     0    0    0  \n",
      "2018             0      0    0        0     0    0    0  \n",
      "2019             0      0    3        0     0    0    0  \n"
     ]
    },
    {
     "data": {
      "text/plain": [
       "<matplotlib.axes._subplots.AxesSubplot at 0x21a206a4908>"
      ]
     },
     "execution_count": 14,
     "metadata": {},
     "output_type": "execute_result"
    },
    {
     "data": {
      "image/png": "[encoded data removed]",
      "text/plain": [
       "<Figure size 432x288 with 1 Axes>"
      ]
     },
     "metadata": {
      "needs_background": "light"
     },
     "output_type": "display_data"
    }
   ],
   "source": [
    "%matplotlib inline\n",
    "# import matplotlib.pyplot as plt\n",
    "# normalize='index'で行ごとの割合で集計される\n",
    "data_dict['dc:creator'] = data_dict['dc:creator'].str.replace('\\[', '222') # これは置換できた\n",
    "data_dict['dc:publisher'] = data_dict['dc:publisher'].apply(''.join) # やっとできた[]をとる\n",
    "# pd.crosstab(index=data_dict.loc[:,'dc:creator'],columns=data_dict.loc[:,'dc:date'])\n",
    "cros = pd.crosstab(data_dict.loc[:,'dc:date'],data_dict.loc[:,'dc:publisher'])\n",
    "print(cros)\n",
    "# stacked=Trueで積み上げ機能オン\n",
    "crosg = cros.plot.bar(stacked=True)\n",
    "title = keyword2 + 'publication year/pub'\n",
    "crosg.set_title(title, fontname=\"Meiryo\")\n",
    "legend = crosg.legend(framealpha=1.0, prop={\"family\":\"Meiryo\"},bbox_to_anchor=(1.05, 1), loc='upper left', borderaxespad=0, fontsize=18)\n",
    "# (bbox_to_anchor=(1.05, 1), loc='upper left', borderaxespad=0, fontsize=18)\n",
    "legend.set_title('dc:publisher', prop={\"family\":\"Meiryo\"})\n",
    "crosg.text(10, 10, 'N='+totalResults)\n",
    "# crosg.legend([\"凡例\"], prop={\"family\":\"Meiryo\"})\n",
    "crosg"
   ]
  },
  {
   "cell_type": "code",
   "execution_count": null,
   "metadata": {},
   "outputs": [],
   "source": [
    "# CSV出力\n",
    "data_dict.to_csv('cib_data.csv', encoding='utf-8_sig', quoting=csv.QUOTE_ALL, index=False )"
   ]
  },
  {
   "cell_type": "raw",
   "metadata": {},
   "source": [
    "data_dict.tail()"
   ]
  },
  {
   "cell_type": "code",
   "execution_count": null,
   "metadata": {},
   "outputs": [],
   "source": []
  },
  {
   "cell_type": "code",
   "execution_count": null,
   "metadata": {},
   "outputs": [],
   "source": []
  }
 ],
 "metadata": {
  "kernelspec": {
   "display_name": "Python 3",
   "language": "python",
   "name": "python3"
  },
  "language_info": {
   "codemirror_mode": {
    "name": "ipython",
    "version": 3
   },
   "file_extension": ".py",
   "mimetype": "text/x-python",
   "name": "python",
   "nbconvert_exporter": "python",
   "pygments_lexer": "ipython3",
   "version": "3.7.4"
  }
 },
 "nbformat": 4,
 "nbformat_minor": 4
}
